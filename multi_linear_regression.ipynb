{
  "nbformat": 4,
  "nbformat_minor": 0,
  "metadata": {
    "colab": {
      "provenance": [],
      "authorship_tag": "ABX9TyNUqgy0Fiembo/YjHik139k",
      "include_colab_link": true
    },
    "kernelspec": {
      "name": "python3",
      "display_name": "Python 3"
    },
    "language_info": {
      "name": "python"
    },
    "accelerator": "TPU"
  },
  "cells": [
    {
      "cell_type": "markdown",
      "metadata": {
        "id": "view-in-github",
        "colab_type": "text"
      },
      "source": [
        "<a href=\"https://colab.research.google.com/github/ghwlsro/multipleLinearRegressionStudy/blob/master/multi_linear_regression.ipynb\" target=\"_parent\"><img src=\"https://colab.research.google.com/assets/colab-badge.svg\" alt=\"Open In Colab\"/></a>"
      ]
    },
    {
      "cell_type": "code",
      "execution_count": null,
      "metadata": {
        "id": "BkOR47hXaH4N"
      },
      "outputs": [],
      "source": [
        "# 下载数据\n",
        "import pandas as pd\n",
        "url = \"https://raw.githubusercontent.com/ghwlsro/multipleLinearRegressionStudy/master/Salary_Data2.csv\"\n",
        "data = pd.read_csv(url)"
      ]
    },
    {
      "cell_type": "code",
      "source": [
        "# 处理EducationLevel数据\n",
        "data[\"EducationLevel\"] = data[\"EducationLevel\"].map({\"高中以下\": 0, \"大學\": 1, \"碩士以上\": 2})"
      ],
      "metadata": {
        "id": "QZhneYV8dYrF"
      },
      "execution_count": null,
      "outputs": []
    },
    {
      "cell_type": "code",
      "source": [
        "# 对city进行独热编码（一个多值属性变成多个正交数字属性）\n",
        "from sklearn.preprocessing import OneHotEncoder\n",
        "oneHotEncoder = OneHotEncoder()\n",
        "oneHotEncoder.fit(data[[\"City\"]])\n",
        "city_encoded = oneHotEncoder.transform(data[[\"City\"]]).toarray()\n",
        "data[[\"CityA\", \"CityB\", \"CityC\"]] = city_encoded\n",
        "data = data.drop([\"City\", \"CityC\"], axis=1)"
      ],
      "metadata": {
        "id": "VEoU0s_zkmmp"
      },
      "execution_count": null,
      "outputs": []
    },
    {
      "cell_type": "code",
      "source": [
        "# 分割数据\n",
        "from sklearn.model_selection import train_test_split\n",
        "data\n",
        "x = data[[\"YearsExperience\", \"EducationLevel\", \"CityA\", \"CityB\"]]\n",
        "y =data[[\"Salary\"]]\n",
        "x_train, x_test, y_train, y_test = train_test_split(x, y, test_size=0.2, random_state=87)\n",
        "x_train = x_train.to_numpy()\n",
        "x_test = x_test.to_numpy()\n",
        "y_train = y_train.to_numpy().reshape(len(y_train))\n",
        "y_test = y_test.to_numpy().reshape(len(y_test))"
      ],
      "metadata": {
        "id": "RFTX3XNvpZo8"
      },
      "execution_count": null,
      "outputs": []
    },
    {
      "cell_type": "code",
      "source": [
        "# 数据缩放\n",
        "from sklearn.preprocessing import StandardScaler\n",
        "scaler = StandardScaler()\n",
        "scaler.fit(x_train)\n",
        "x_train = scaler.transform(x_train)\n",
        "x_test = scaler.transform(x_test)"
      ],
      "metadata": {
        "id": "SbDyELCvcMIo"
      },
      "execution_count": null,
      "outputs": []
    },
    {
      "cell_type": "code",
      "source": [
        "# 找w和b，其中，y_pred = w1*x[\"YearsExperience\"] + w2*x[\"EducationLevel\"] + w3*x[\"CityA\"] + w4*x[\"CityB\"] + b\n",
        "import numpy as np\n",
        "w = np.array([1, 2, 3, 4])\n",
        "b = 1\n",
        "y_pred = (x_train*w).sum(axis=1) + b\n",
        "y_pred.shape\n",
        "len(y_train)"
      ],
      "metadata": {
        "colab": {
          "base_uri": "https://localhost:8080/"
        },
        "id": "8U7yTYOUzEZk",
        "outputId": "9d9abacb-a0ba-4877-9f5d-0463a3e10c82"
      },
      "execution_count": null,
      "outputs": [
        {
          "output_type": "execute_result",
          "data": {
            "text/plain": [
              "28"
            ]
          },
          "metadata": {},
          "execution_count": 93
        }
      ]
    },
    {
      "cell_type": "code",
      "source": [
        "def compute_cost(x, y, w, b):\n",
        "  y_pred = (x*w).sum(axis=1) + b\n",
        "  cost = ((y - y_pred)**2).mean()\n",
        "  return cost"
      ],
      "metadata": {
        "id": "Mhp2LNEF9g-S"
      },
      "execution_count": null,
      "outputs": []
    },
    {
      "cell_type": "code",
      "source": [
        "# 梯度下降\n",
        "import numpy as np\n",
        "\n",
        "def gradient_decent(x, y, w_init, b_init, learning_rate, run_iter, print_iter):\n",
        "  w = w_init\n",
        "  b = b_init\n",
        "  w_hist = []\n",
        "  b_hist = []\n",
        "  c_hist = []\n",
        "  for i in range(run_iter):\n",
        "    # 依据y = x1*w1 + x2*w2 + ... + x4*w4 + b 计算y_pred\n",
        "    y_pred = (x*w).sum(axis=1) + b\n",
        "    # 计算cost在b方向的梯度\n",
        "    b_gradient = (y_pred - y).mean()\n",
        "    # 计算cost在4个w方向的梯度\n",
        "    # 定义变量\n",
        "    w_gradient = np.zeros(4,)\n",
        "    # 计算cost在w上的梯度\n",
        "    for j in range(0, x.shape[1]):\n",
        "      w_gradient[j] = (x[:, j] * (y_pred-y)).mean()\n",
        "    # 迭代w和b\n",
        "    w = w - w_gradient * learning_rate\n",
        "    b = b - b_gradient * learning_rate\n",
        "\n",
        "    # 计算cost\n",
        "    cost = compute_cost(x, y, w, b)\n",
        "\n",
        "    if i%print_iter == 0:\n",
        "      formatted_w = [f\"{val: .2e}\" for val in w]\n",
        "      print(f\"iteration {i: 6d}: w={formatted_w} b={b:.2e} cost={cost:.2e}\")\n",
        "      w_hist.append(w)\n",
        "      b_hist.append(b)\n",
        "      c_hist.append(cost)\n",
        "\n",
        "  # 输出最终w b cost值\n",
        "  return w, b, w_hist, b_hist, c_hist"
      ],
      "metadata": {
        "id": "bazxvqyb_qGx"
      },
      "execution_count": null,
      "outputs": []
    },
    {
      "cell_type": "code",
      "source": [
        "# 测试gradient_decent()\n",
        "w_init = np.array([1, 2, 3, 4])\n",
        "b_init = 1\n",
        "learning_rate = 0.001\n",
        "run_iter = 100000\n",
        "print_iter = 5000\n",
        "\n",
        "w_final, b_final, w_hist, b_hist, c_hist = gradient_decent(x_train, y_train, w_init, b_init, learning_rate, run_iter, print_iter)"
      ],
      "metadata": {
        "colab": {
          "base_uri": "https://localhost:8080/"
        },
        "id": "LwDMUY6qJVcF",
        "outputId": "a180658a-05d8-4afe-e16d-0cf73b6afd3e"
      },
      "execution_count": null,
      "outputs": [
        {
          "output_type": "stream",
          "name": "stdout",
          "text": [
            "iteration      0: w=[' 1.01e+00', ' 2.01e+00', ' 2.99e+00', ' 4.00e+00'] b=1.05e+00 cost=2.72e+03\n",
            "iteration   5000: w=[' 2.95e+00', ' 1.32e+01', '-2.41e+00', '-2.64e+00'] b=5.06e+01 cost=2.65e+01\n",
            "iteration  10000: w=[' 3.75e+00', ' 1.39e+01', '-1.79e+00', '-3.52e+00'] b=5.09e+01 cost=2.53e+01\n",
            "iteration  15000: w=[' 4.01e+00', ' 1.41e+01', '-1.56e+00', '-3.71e+00'] b=5.09e+01 cost=2.52e+01\n",
            "iteration  20000: w=[' 4.09e+00', ' 1.41e+01', '-1.49e+00', '-3.76e+00'] b=5.09e+01 cost=2.52e+01\n",
            "iteration  25000: w=[' 4.11e+00', ' 1.41e+01', '-1.47e+00', '-3.78e+00'] b=5.09e+01 cost=2.52e+01\n",
            "iteration  30000: w=[' 4.12e+00', ' 1.41e+01', '-1.46e+00', '-3.78e+00'] b=5.09e+01 cost=2.52e+01\n",
            "iteration  35000: w=[' 4.12e+00', ' 1.41e+01', '-1.46e+00', '-3.78e+00'] b=5.09e+01 cost=2.52e+01\n",
            "iteration  40000: w=[' 4.12e+00', ' 1.41e+01', '-1.46e+00', '-3.78e+00'] b=5.09e+01 cost=2.52e+01\n",
            "iteration  45000: w=[' 4.12e+00', ' 1.41e+01', '-1.46e+00', '-3.78e+00'] b=5.09e+01 cost=2.52e+01\n",
            "iteration  50000: w=[' 4.12e+00', ' 1.41e+01', '-1.46e+00', '-3.78e+00'] b=5.09e+01 cost=2.52e+01\n",
            "iteration  55000: w=[' 4.12e+00', ' 1.41e+01', '-1.46e+00', '-3.78e+00'] b=5.09e+01 cost=2.52e+01\n",
            "iteration  60000: w=[' 4.12e+00', ' 1.41e+01', '-1.46e+00', '-3.78e+00'] b=5.09e+01 cost=2.52e+01\n",
            "iteration  65000: w=[' 4.12e+00', ' 1.41e+01', '-1.46e+00', '-3.78e+00'] b=5.09e+01 cost=2.52e+01\n",
            "iteration  70000: w=[' 4.12e+00', ' 1.41e+01', '-1.46e+00', '-3.78e+00'] b=5.09e+01 cost=2.52e+01\n",
            "iteration  75000: w=[' 4.12e+00', ' 1.41e+01', '-1.46e+00', '-3.78e+00'] b=5.09e+01 cost=2.52e+01\n",
            "iteration  80000: w=[' 4.12e+00', ' 1.41e+01', '-1.46e+00', '-3.78e+00'] b=5.09e+01 cost=2.52e+01\n",
            "iteration  85000: w=[' 4.12e+00', ' 1.41e+01', '-1.46e+00', '-3.78e+00'] b=5.09e+01 cost=2.52e+01\n",
            "iteration  90000: w=[' 4.12e+00', ' 1.41e+01', '-1.46e+00', '-3.78e+00'] b=5.09e+01 cost=2.52e+01\n",
            "iteration  95000: w=[' 4.12e+00', ' 1.41e+01', '-1.46e+00', '-3.78e+00'] b=5.09e+01 cost=2.52e+01\n"
          ]
        }
      ]
    },
    {
      "cell_type": "code",
      "source": [
        "# 测试测试集\n",
        "y_pred = (x_test * w_final).sum(axis=1) + b_final\n",
        "pd.DataFrame({\"y_pred\": y_pred, \"y_test\": y_test})\n",
        "compute_cost(x_test, y_test, w_final, b_final)"
      ],
      "metadata": {
        "colab": {
          "base_uri": "https://localhost:8080/"
        },
        "id": "LmPqjY7dSfzv",
        "outputId": "ab2d94e3-b54b-48b0-cc7f-dd8338cd71ab"
      },
      "execution_count": null,
      "outputs": [
        {
          "output_type": "execute_result",
          "data": {
            "text/plain": [
              "18.116060544193736"
            ]
          },
          "metadata": {},
          "execution_count": 97
        }
      ]
    },
    {
      "cell_type": "code",
      "source": [
        "# 使用模型\n",
        "# 假设x的参数是5.3 硕士以上 城市A\n",
        "# 整理数据\n",
        "x = np.array([[5.3, 2, 1, 0]])\n",
        "x = scaler.transform(x)\n",
        "y_pred = (x*w_final).sum(axis=1) + b_final\n",
        "y_pred"
      ],
      "metadata": {
        "colab": {
          "base_uri": "https://localhost:8080/"
        },
        "id": "FtxFY3Bed_Nn",
        "outputId": "a3c75cde-91de-4e72-c1cc-198a8c3cbdae"
      },
      "execution_count": null,
      "outputs": [
        {
          "output_type": "execute_result",
          "data": {
            "text/plain": [
              "array([65.53661553])"
            ]
          },
          "metadata": {},
          "execution_count": 98
        }
      ]
    }
  ]
}